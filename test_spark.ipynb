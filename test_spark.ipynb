{
 "cells": [
  {
   "cell_type": "code",
   "execution_count": 1,
   "metadata": {},
   "outputs": [],
   "source": [
    "# import spark sql\n",
    "from pyspark.sql import SparkSession\n",
    "# create spark session with 8 threads\n",
    "spark = SparkSession.builder.appName('test').master('local[16]').getOrCreate()"
   ]
  },
  {
   "cell_type": "code",
   "execution_count": 2,
   "metadata": {},
   "outputs": [
    {
     "data": {
      "text/html": [
       "\n",
       "            <div>\n",
       "                <p><b>SparkSession - in-memory</b></p>\n",
       "                \n",
       "        <div>\n",
       "            <p><b>SparkContext</b></p>\n",
       "\n",
       "            <p><a href=\"http://DESKTOP-6GBMM5U:4040\">Spark UI</a></p>\n",
       "\n",
       "            <dl>\n",
       "              <dt>Version</dt>\n",
       "                <dd><code>v3.3.0</code></dd>\n",
       "              <dt>Master</dt>\n",
       "                <dd><code>local[16]</code></dd>\n",
       "              <dt>AppName</dt>\n",
       "                <dd><code>test</code></dd>\n",
       "            </dl>\n",
       "        </div>\n",
       "        \n",
       "            </div>\n",
       "        "
      ],
      "text/plain": [
       "<pyspark.sql.session.SparkSession at 0x1231f595b10>"
      ]
     },
     "execution_count": 2,
     "metadata": {},
     "output_type": "execute_result"
    }
   ],
   "source": [
    "spark"
   ]
  },
  {
   "cell_type": "code",
   "execution_count": 3,
   "metadata": {},
   "outputs": [
    {
     "name": "stdout",
     "output_type": "stream",
     "text": [
      "+------------------------+---+-----------+--------------------+--------------------+-----------------+----+--------------------+-------------------+-------------+\n",
      "|Daily Time Spent on Site|Age|Area Income|Daily Internet Usage|       Ad Topic Line|             City|Male|             Country|          Timestamp|Clicked on Ad|\n",
      "+------------------------+---+-----------+--------------------+--------------------+-----------------+----+--------------------+-------------------+-------------+\n",
      "|                   68.95| 35|    61833.9|              256.09|Cloned 5thgenerat...|      Wrightburgh|   0|             Tunisia|2016-03-27 00:53:11|            0|\n",
      "|                   80.23| 31|   68441.85|              193.77|Monitored nationa...|        West Jodi|   1|               Nauru|2016-04-04 01:39:02|            0|\n",
      "|                   69.47| 26|   59785.94|               236.5|Organic bottom-li...|         Davidton|   0|          San Marino|2016-03-13 20:35:42|            0|\n",
      "|                   74.15| 29|   54806.18|              245.89|Triple-buffered r...|   West Terrifurt|   1|               Italy|2016-01-10 02:31:19|            0|\n",
      "|                   68.37| 35|   73889.99|              225.58|Robust logistical...|     South Manuel|   0|             Iceland|2016-06-03 03:36:18|            0|\n",
      "|                   59.99| 23|   59761.56|              226.74|Sharable client-d...|        Jamieberg|   1|              Norway|2016-05-19 14:30:17|            0|\n",
      "|                   88.91| 33|   53852.85|              208.36|Enhanced dedicate...|      Brandonstad|   0|             Myanmar|2016-01-28 20:59:32|            0|\n",
      "|                    66.0| 48|   24593.33|              131.76|Reactive local ch...| Port Jefferybury|   1|           Australia|2016-03-07 01:40:15|            1|\n",
      "|                   74.53| 30|    68862.0|              221.51|Configurable cohe...|       West Colin|   1|             Grenada|2016-04-18 09:33:42|            0|\n",
      "|                   69.88| 20|   55642.32|              183.82|Mandatory homogen...|       Ramirezton|   1|               Ghana|2016-07-11 01:42:51|            0|\n",
      "|                   47.64| 49|   45632.51|              122.02|Centralized neutr...|  West Brandonton|   0|               Qatar|2016-03-16 20:19:01|            1|\n",
      "|                   83.07| 37|   62491.01|              230.87|Team-oriented gri...|East Theresashire|   1|             Burundi|2016-05-08 08:10:10|            0|\n",
      "|                   69.57| 48|   51636.92|              113.12|Centralized conte...|   West Katiefurt|   1|               Egypt|2016-06-03 01:14:41|            1|\n",
      "|                   79.52| 24|   51739.63|              214.23|Synergistic fresh...|       North Tara|   0|Bosnia and Herzeg...|2016-04-20 21:49:22|            0|\n",
      "|                   42.95| 33|    30976.0|              143.56|Grass-roots coher...|     West William|   0|            Barbados|2016-03-24 09:31:49|            1|\n",
      "|                   63.45| 23|   52182.23|              140.64|Persistent demand...|   New Travistown|   1|               Spain|2016-03-09 03:41:30|            1|\n",
      "|                   55.39| 37|   23936.86|              129.41|Customizable mult...|   West Dylanberg|   0|Palestinian Terri...|2016-01-30 19:20:41|            1|\n",
      "|                   82.03| 41|   71511.08|              187.53|Intuitive dynamic...|      Pruittmouth|   0|         Afghanistan|2016-05-02 07:00:58|            0|\n",
      "|                    54.7| 36|   31087.54|              118.39|Grass-roots solut...|      Jessicastad|   1|British Indian Oc...|2016-02-13 07:53:55|            1|\n",
      "|                   74.58| 40|   23821.72|              135.51|Advanced 24/7 pro...|       Millertown|   1|  Russian Federation|2016-02-27 04:43:07|            1|\n",
      "+------------------------+---+-----------+--------------------+--------------------+-----------------+----+--------------------+-------------------+-------------+\n",
      "only showing top 20 rows\n",
      "\n"
     ]
    }
   ],
   "source": [
    "# create a dataframe loading a csv file\n",
    "# headers = ['']\n",
    "df = spark.read.csv('advertising.csv', header=True,inferSchema=True)\n",
    "\n",
    "# show the dataframe\n",
    "df.show()"
   ]
  },
  {
   "cell_type": "code",
   "execution_count": 7,
   "metadata": {},
   "outputs": [
    {
     "name": "stdout",
     "output_type": "stream",
     "text": [
      "+------------------------+---+-----------+--------------------+--------------------+-----------------+----+--------------------+-------------------+-------------+\n",
      "|daily_time_spent_on_site|age|area_income|daily_internet_usage|       ad_topic_line|             city|male|             country|          timestamp|clicked_on_ad|\n",
      "+------------------------+---+-----------+--------------------+--------------------+-----------------+----+--------------------+-------------------+-------------+\n",
      "|                   68.95| 35|    61833.9|              256.09|Cloned 5thgenerat...|      Wrightburgh|   0|             Tunisia|2016-03-27 00:53:11|            0|\n",
      "|                   80.23| 31|   68441.85|              193.77|Monitored nationa...|        West Jodi|   1|               Nauru|2016-04-04 01:39:02|            0|\n",
      "|                   69.47| 26|   59785.94|               236.5|Organic bottom-li...|         Davidton|   0|          San Marino|2016-03-13 20:35:42|            0|\n",
      "|                   74.15| 29|   54806.18|              245.89|Triple-buffered r...|   West Terrifurt|   1|               Italy|2016-01-10 02:31:19|            0|\n",
      "|                   68.37| 35|   73889.99|              225.58|Robust logistical...|     South Manuel|   0|             Iceland|2016-06-03 03:36:18|            0|\n",
      "|                   59.99| 23|   59761.56|              226.74|Sharable client-d...|        Jamieberg|   1|              Norway|2016-05-19 14:30:17|            0|\n",
      "|                   88.91| 33|   53852.85|              208.36|Enhanced dedicate...|      Brandonstad|   0|             Myanmar|2016-01-28 20:59:32|            0|\n",
      "|                    66.0| 48|   24593.33|              131.76|Reactive local ch...| Port Jefferybury|   1|           Australia|2016-03-07 01:40:15|            1|\n",
      "|                   74.53| 30|    68862.0|              221.51|Configurable cohe...|       West Colin|   1|             Grenada|2016-04-18 09:33:42|            0|\n",
      "|                   69.88| 20|   55642.32|              183.82|Mandatory homogen...|       Ramirezton|   1|               Ghana|2016-07-11 01:42:51|            0|\n",
      "|                   47.64| 49|   45632.51|              122.02|Centralized neutr...|  West Brandonton|   0|               Qatar|2016-03-16 20:19:01|            1|\n",
      "|                   83.07| 37|   62491.01|              230.87|Team-oriented gri...|East Theresashire|   1|             Burundi|2016-05-08 08:10:10|            0|\n",
      "|                   69.57| 48|   51636.92|              113.12|Centralized conte...|   West Katiefurt|   1|               Egypt|2016-06-03 01:14:41|            1|\n",
      "|                   79.52| 24|   51739.63|              214.23|Synergistic fresh...|       North Tara|   0|Bosnia and Herzeg...|2016-04-20 21:49:22|            0|\n",
      "|                   42.95| 33|    30976.0|              143.56|Grass-roots coher...|     West William|   0|            Barbados|2016-03-24 09:31:49|            1|\n",
      "|                   63.45| 23|   52182.23|              140.64|Persistent demand...|   New Travistown|   1|               Spain|2016-03-09 03:41:30|            1|\n",
      "|                   55.39| 37|   23936.86|              129.41|Customizable mult...|   West Dylanberg|   0|Palestinian Terri...|2016-01-30 19:20:41|            1|\n",
      "|                   82.03| 41|   71511.08|              187.53|Intuitive dynamic...|      Pruittmouth|   0|         Afghanistan|2016-05-02 07:00:58|            0|\n",
      "|                    54.7| 36|   31087.54|              118.39|Grass-roots solut...|      Jessicastad|   1|British Indian Oc...|2016-02-13 07:53:55|            1|\n",
      "|                   74.58| 40|   23821.72|              135.51|Advanced 24/7 pro...|       Millertown|   1|  Russian Federation|2016-02-27 04:43:07|            1|\n",
      "+------------------------+---+-----------+--------------------+--------------------+-----------------+----+--------------------+-------------------+-------------+\n",
      "only showing top 20 rows\n",
      "\n"
     ]
    }
   ],
   "source": [
    "# make header lowercase and replace spaces with underscores\n",
    "df = df.toDF(*[c.lower().replace(' ', '_') for c in df.columns])\n",
    "\n",
    "# show the dataframe\n",
    "df.show()"
   ]
  },
  {
   "cell_type": "code",
   "execution_count": 8,
   "metadata": {},
   "outputs": [
    {
     "name": "stdout",
     "output_type": "stream",
     "text": [
      "+-------------+-----------------------------+--------+--------------------+-------------------------+---------+------------------+\n",
      "|clicked_on_ad|sum(daily_time_spent_on_site)|sum(age)|    sum(area_income)|sum(daily_internet_usage)|sum(male)|sum(clicked_on_ad)|\n",
      "+-------------+-----------------------------+--------+--------------------+-------------------------+---------+------------------+\n",
      "|            1|            26572.88999999998|   20167|2.4307206869999997E7|        72743.23000000003|      231|               500|\n",
      "|            0|            38427.30999999999|   15842|3.0692793209999986E7|        107256.8699999999|      250|                 0|\n",
      "+-------------+-----------------------------+--------+--------------------+-------------------------+---------+------------------+\n",
      "\n"
     ]
    }
   ],
   "source": [
    "# sum of clicked_on_ad\n",
    "df.groupBy('clicked_on_ad').sum().show()"
   ]
  },
  {
   "cell_type": "code",
   "execution_count": 9,
   "metadata": {},
   "outputs": [
    {
     "name": "stdout",
     "output_type": "stream",
     "text": [
      "+-------------+-----------------------------+--------+--------------------+-------------------------+---------+------------------+\n",
      "|clicked_on_ad|sum(daily_time_spent_on_site)|sum(age)|    sum(area_income)|sum(daily_internet_usage)|sum(male)|sum(clicked_on_ad)|\n",
      "+-------------+-----------------------------+--------+--------------------+-------------------------+---------+------------------+\n",
      "|            1|           11937.779999999995|    9387|1.1340014809999993E7|        33593.19000000001|      231|               231|\n",
      "|            0|           19177.280000000002|    7841|1.5123843870000012E7|        53601.00999999999|      250|                 0|\n",
      "+-------------+-----------------------------+--------+--------------------+-------------------------+---------+------------------+\n",
      "\n"
     ]
    }
   ],
   "source": [
    "# sum of clicked_on_ad if row is male\n",
    "df.filter(df['male'] == 1).groupBy('clicked_on_ad').sum().show()"
   ]
  },
  {
   "cell_type": "code",
   "execution_count": 10,
   "metadata": {},
   "outputs": [
    {
     "name": "stdout",
     "output_type": "stream",
     "text": [
      "+-------------+-----------------------------+--------+--------------------+-------------------------+---------+------------------+\n",
      "|clicked_on_ad|sum(daily_time_spent_on_site)|sum(age)|    sum(area_income)|sum(daily_internet_usage)|sum(male)|sum(clicked_on_ad)|\n",
      "+-------------+-----------------------------+--------+--------------------+-------------------------+---------+------------------+\n",
      "|            1|           14635.110000000004|   10780|1.2967192060000004E7|        39150.04000000002|        0|               269|\n",
      "|            0|           19250.029999999995|    8001|1.5568949340000002E7|       53655.860000000015|        0|                 0|\n",
      "+-------------+-----------------------------+--------+--------------------+-------------------------+---------+------------------+\n",
      "\n"
     ]
    }
   ],
   "source": [
    "# sum of clicked_on_ad if row is not male\n",
    "df.filter(df['male'] == 0).groupBy('clicked_on_ad').sum().show()"
   ]
  },
  {
   "cell_type": "code",
   "execution_count": 11,
   "metadata": {},
   "outputs": [
    {
     "name": "stdout",
     "output_type": "stream",
     "text": [
      "+--------------+-----------------------------+--------+------------------+-------------------------+---------+------------------+\n",
      "|       country|sum(daily_time_spent_on_site)|sum(age)|  sum(area_income)|sum(daily_internet_usage)|sum(male)|sum(clicked_on_ad)|\n",
      "+--------------+-----------------------------+--------+------------------+-------------------------+---------+------------------+\n",
      "|     Australia|                       502.69|     342|         364439.38|                  1229.71|        2|                 7|\n",
      "|      Ethiopia|                       332.41|     261|         351501.09|        929.4899999999999|        5|                 7|\n",
      "|        Turkey|           460.70000000000005|     328| 431663.7700000001|                  1192.38|        5|                 7|\n",
      "| Liechtenstein|                       342.83|     230|         303120.24|                   863.37|        3|                 6|\n",
      "|  South Africa|                        476.7|     324|462093.75999999995|                  1396.79|        3|                 6|\n",
      "|       Liberia|                       435.91|     308|         383329.33|                  1414.31|        3|                 6|\n",
      "|       Hungary|           401.52000000000004|     229|         377690.38|       1004.1899999999999|        1|                 5|\n",
      "|   Afghanistan|                       518.26|     337|392114.92000000004|                  1298.71|        2|                 5|\n",
      "|       Mayotte|                       278.74|     231|          359343.7|                  1036.28|        2|                 5|\n",
      "|       Senegal|                       523.19|     246|394805.44999999995|       1358.4599999999998|        3|                 5|\n",
      "|        France|                       570.88|     337|         508289.26|                  1478.08|        5|                 5|\n",
      "|          Peru|           449.18999999999994|     328|          388252.0|       1507.4099999999999|        3|                 5|\n",
      "|     Indonesia|                       378.81|     240|356642.69000000006|        987.4000000000001|        4|                 4|\n",
      "|       Bahamas|           431.84000000000003|     257|         371488.18|                   1217.6|        4|                 4|\n",
      "|         China|                       369.87|     245|         289143.16|                   943.31|        1|                 4|\n",
      "|       Albania|                        443.6|     216|          380754.4|                  1216.21|        3|                 4|\n",
      "|   El Salvador|           370.77000000000004|     215|277547.29000000004|                   1055.6|        5|                 4|\n",
      "|      Mongolia|                       321.88|     230|265197.82999999996|                  1065.27|        4|                 4|\n",
      "|Western Sahara|           420.92999999999995|     280|370961.08999999997|       1139.8500000000001|        3|                 4|\n",
      "|         Samoa|           390.00000000000006|     200|         320409.13|                  1013.08|        1|                 4|\n",
      "+--------------+-----------------------------+--------+------------------+-------------------------+---------+------------------+\n",
      "only showing top 20 rows\n",
      "\n"
     ]
    }
   ],
   "source": [
    "#  From which country most click on ad was received.\n",
    "df.groupBy('country').sum().orderBy('sum(clicked_on_ad)', ascending=False).show()"
   ]
  },
  {
   "cell_type": "code",
   "execution_count": 12,
   "metadata": {},
   "outputs": [
    {
     "name": "stdout",
     "output_type": "stream",
     "text": [
      "+----------------+-----------------------------+--------+------------------+-------------------------+---------+------------------+\n",
      "|            city|sum(daily_time_spent_on_site)|sum(age)|  sum(area_income)|sum(daily_internet_usage)|sum(male)|sum(clicked_on_ad)|\n",
      "+----------------+-----------------------------+--------+------------------+-------------------------+---------+------------------+\n",
      "|       Lisamouth|                       161.06|     124|         170851.82|                    491.3|        2|                 2|\n",
      "|      Millerbury|                       106.11|      64|         135167.59|       300.84000000000003|        1|                 2|\n",
      "|    Michelleside|                        130.8|      84|         127547.51|                   361.23|        1|                 2|\n",
      "|      Lake David|                       114.69|      67|          99805.53|                   258.18|        1|                 2|\n",
      "|     West Amanda|                        95.63|      77|         108332.85|                   246.93|        1|                 2|\n",
      "|    West Shannon|            97.27000000000001|      91|          80806.83|       290.40999999999997|        1|                 2|\n",
      "|      Lake James|                        93.45|      77|         123579.52|       303.46999999999997|        1|                 2|\n",
      "|      Robertfurt|                        91.58|      88|         119929.27|                    262.5|        0|                 2|\n",
      "|    Williamsport|           176.45000000000002|      97|         148562.87|                   520.02|        2|                 2|\n",
      "|      South Lisa|                       115.59|      70|115712.95000000001|                   257.67|        1|                 2|\n",
      "|   Andrewborough|                        46.04|      32|          65499.93|                   147.92|        0|                 1|\n",
      "|      East Jason|                        78.96|      50|          69868.48|                   193.15|        0|                 1|\n",
      "|     Hansenmouth|                        66.01|      23|          34127.21|                   151.95|        0|                 1|\n",
      "|    West William|                        42.95|      33|           30976.0|                   143.56|        0|                 1|\n",
      "|   Lake Evantown|                         63.3|      38|          63071.34|                   116.19|        0|                 1|\n",
      "| South Lauratown|                        40.17|      26|          47391.95|                   171.31|        1|                 1|\n",
      "|       Port Eric|                        41.67|      36|          53817.02|                   132.55|        0|                 1|\n",
      "|   Williamsmouth|                        54.43|      37|           75180.2|                   154.74|        1|                 1|\n",
      "|     Matthewtown|                        66.26|      47|          14548.06|                   179.04|        1|                 1|\n",
      "|Lake Rhondaburgh|                        42.51|      30|          54755.71|                   144.77|        1|                 1|\n",
      "+----------------+-----------------------------+--------+------------------+-------------------------+---------+------------------+\n",
      "only showing top 20 rows\n",
      "\n"
     ]
    }
   ],
   "source": [
    "# From which city most click on ad was received.\n",
    "df.groupBy('city').sum().orderBy('sum(clicked_on_ad)', ascending=False).show()"
   ]
  },
  {
   "cell_type": "code",
   "execution_count": 13,
   "metadata": {},
   "outputs": [
    {
     "name": "stdout",
     "output_type": "stream",
     "text": [
      "+-------------------+-----------------------------+--------+----------------+-------------------------+---------+------------------+\n",
      "|          timestamp|sum(daily_time_spent_on_site)|sum(age)|sum(area_income)|sum(daily_internet_usage)|sum(male)|sum(clicked_on_ad)|\n",
      "+-------------------+-----------------------------+--------+----------------+-------------------------+---------+------------------+\n",
      "|2016-03-17 22:24:02|                        47.23|      43|        73538.09|                   210.87|        1|                 1|\n",
      "|2016-03-09 03:41:30|                        63.45|      23|        52182.23|                   140.64|        1|                 1|\n",
      "|2016-06-19 23:04:45|                        56.78|      28|        39939.39|                   124.32|        0|                 1|\n",
      "|2016-07-03 22:13:19|                        53.14|      38|        49111.47|                    109.0|        1|                 1|\n",
      "|2016-02-13 07:53:55|                         54.7|      36|        31087.54|                   118.39|        1|                 1|\n",
      "|2016-04-23 14:34:38|                        57.35|      29|        41356.31|                   119.84|        0|                 1|\n",
      "|2016-02-10 19:20:51|                         78.7|      30|        53441.69|                   133.99|        0|                 1|\n",
      "|2016-07-05 18:59:45|                        56.01|      26|        46339.25|                   127.26|        0|                 1|\n",
      "|2016-07-07 12:17:33|                        54.97|      31|        51900.03|                   116.38|        1|                 1|\n",
      "|2016-07-24 00:22:16|                        69.15|      46|        36424.94|                   112.72|        0|                 1|\n",
      "|2016-05-02 15:31:28|                        61.04|      41|        75805.12|                   149.21|        0|                 1|\n",
      "|2016-01-29 05:39:16|                        43.83|      45|        35684.82|                   129.01|        0|                 1|\n",
      "|2016-02-21 23:07:11|                        55.46|      37|        42078.89|                    108.1|        0|                 1|\n",
      "|2016-01-05 04:18:46|                        49.81|      35|        57009.76|                   120.06|        1|                 1|\n",
      "|2016-02-13 13:57:53|                        65.72|      36|        28275.48|                   120.12|        0|                 1|\n",
      "|2016-06-16 02:01:24|                        59.51|      58|        39132.64|                   140.83|        0|                 1|\n",
      "|2016-04-18 21:07:28|                        46.28|      26|        50055.33|                   228.78|        1|                 1|\n",
      "|2016-02-11 21:49:00|                        72.97|      30|        71384.57|                   208.58|        1|                 1|\n",
      "|2016-02-14 06:51:43|                        44.64|      36|        55787.58|                   127.01|        0|                 1|\n",
      "|2016-04-13 05:42:52|                        43.02|      44|        50199.77|                   125.22|        0|                 1|\n",
      "+-------------------+-----------------------------+--------+----------------+-------------------------+---------+------------------+\n",
      "only showing top 20 rows\n",
      "\n"
     ]
    }
   ],
   "source": [
    "# Considering the 24 hours day as day (6 AM - 6 PM) and night (6 PM - 6 AM), the ad was mostly clicked during the day time or night time. Use the timestamp column to answer this question.\n",
    "df.groupBy('timestamp').sum().orderBy('sum(clicked_on_ad)', ascending=False).show()"
   ]
  },
  {
   "cell_type": "code",
   "execution_count": 14,
   "metadata": {},
   "outputs": [
    {
     "name": "stdout",
     "output_type": "stream",
     "text": [
      "+-------------------+--------------------+-----------------------------+--------+----------------+-------------------------+---------+------------------+\n",
      "|               city|             country|avg(daily_time_spent_on_site)|avg(age)|avg(area_income)|avg(daily_internet_usage)|avg(male)|avg(clicked_on_ad)|\n",
      "+-------------------+--------------------+-----------------------------+--------+----------------+-------------------------+---------+------------------+\n",
      "|        Edwardmouth|          Madagascar|                        64.51|    42.0|         79484.8|                   190.71|      1.0|               0.0|\n",
      "|           Mataberg|               Palau|                         60.7|    43.0|        79332.33|                    192.6|      1.0|               0.0|\n",
      "|        East Ronald|        Saint Helena|                        67.85|    41.0|        78520.99|                    202.7|      1.0|               1.0|\n",
      "|  Port Whitneyhaven|             Belgium|                        68.88|    37.0|         78119.5|                   179.58|      0.0|               0.0|\n",
      "|North Isabellaville|      Western Sahara|                        66.14|    41.0|        78092.95|                   165.27|      0.0|               0.0|\n",
      "|    West Robertside|              Malawi|                        62.26|    37.0|        77988.71|                   166.19|      0.0|               0.0|\n",
      "|   North Jeremyport|              Cyprus|                        66.83|    46.0|        77871.75|                   196.17|      1.0|               0.0|\n",
      "|       Port Destiny| Antigua and Barbuda|                         66.4|    40.0|        77567.85|                   214.42|      0.0|               0.0|\n",
      "|      Kimberlyhaven|Turks and Caicos ...|                        69.08|    41.0|        77460.07|                    210.6|      0.0|               0.0|\n",
      "|   Lake Jenniferton|   Equatorial Guinea|                        68.68|    34.0|        77220.42|                   187.03|      1.0|               0.0|\n",
      "|         Staceyfort|               Samoa|                        59.96|    33.0|        77143.61|                   197.66|      0.0|               1.0|\n",
      "|        Lake Hailey|              Sweden|                        54.35|    42.0|        76984.21|                   164.02|      0.0|               0.0|\n",
      "|         Garciaview|              Latvia|                        60.94|    41.0|        76893.84|                   154.97|      0.0|               1.0|\n",
      "|         Jordantown|United States of ...|                         55.2|    39.0|        76560.59|                   159.46|      1.0|               1.0|\n",
      "|      New Jamestown|             Vanuatu|                        68.25|    33.0|        76480.16|                   198.86|      1.0|               0.0|\n",
      "|          Kellytown|             Ukraine|                        65.82|    39.0|         76435.3|                   221.94|      0.0|               0.0|\n",
      "|  Lake Jasonchester|             Finland|                        67.69|    37.0|        76408.19|                   216.57|      0.0|               0.0|\n",
      "|        Timothyfurt|                Cuba|                        51.24|    36.0|        76368.31|                   176.73|      0.0|               1.0|\n",
      "|     North Mercedes|            Pakistan|                        67.28|    43.0|        76246.96|                    155.8|      1.0|               1.0|\n",
      "|        North Randy|              Malawi|                        71.84|    47.0|        76003.47|                   199.79|      1.0|               0.0|\n",
      "+-------------------+--------------------+-----------------------------+--------+----------------+-------------------------+---------+------------------+\n",
      "only showing top 20 rows\n",
      "\n"
     ]
    }
   ],
   "source": [
    "# Which (city, country) has the highest average income?\n",
    "df.groupBy('city', 'country').avg().orderBy('avg(area_income)', ascending=False).show()"
   ]
  },
  {
   "cell_type": "code",
   "execution_count": 15,
   "metadata": {},
   "outputs": [
    {
     "name": "stdout",
     "output_type": "stream",
     "text": [
      "+---+-----------------------------+--------+------------------+-------------------------+-------------------+-------------------+\n",
      "|age|avg(daily_time_spent_on_site)|avg(age)|  avg(area_income)|avg(daily_internet_usage)|          avg(male)| avg(clicked_on_ad)|\n",
      "+---+-----------------------------+--------+------------------+-------------------------+-------------------+-------------------+\n",
      "| 21|                        68.46|    21.0| 50764.57166666666|                  208.235| 0.6666666666666666|                0.0|\n",
      "| 31|            71.06533333333333|    31.0|58466.672833333345|        204.2541666666666|0.48333333333333334|0.23333333333333334|\n",
      "| 25|            71.36074074074074|    25.0| 55830.65592592593|       202.02851851851852| 0.6666666666666666|0.14814814814814814|\n",
      "| 28|            69.78354166666666|    28.0|58357.932291666664|       200.97854166666664|             0.4375| 0.2708333333333333|\n",
      "| 26|                        69.43|    26.0|57440.580540540526|         199.007027027027| 0.4864864864864865|0.21621621621621623|\n",
      "| 27|            71.09333333333332|    27.0| 57441.16636363637|       198.64272727272729| 0.5151515151515151|0.21212121212121213|\n",
      "| 32|            72.17052631578949|    32.0| 56810.11499999999|       198.46921052631578| 0.6578947368421053| 0.2894736842105263|\n",
      "| 22|            71.00999999999999|    22.0|53363.022307692314|        198.1192307692308| 0.3076923076923077|0.07692307692307693|\n",
      "| 33|            68.89093023255812|    33.0| 57848.74604651163|       196.64046511627902| 0.5116279069767442| 0.3488372093023256|\n",
      "| 20|            66.70833333333333|    20.0| 50704.60666666667|       194.99833333333333| 0.8333333333333334|0.16666666666666666|\n",
      "| 24|            71.24571428571429|    24.0| 54449.23428571428|        193.3090476190476|0.42857142857142855| 0.2857142857142857|\n",
      "| 29|            68.90458333333333|    29.0| 57301.61041666667|       191.31249999999997|              0.375| 0.3333333333333333|\n",
      "| 30|            70.93769230769232|    30.0| 57694.81538461538|       190.36794871794876|0.48717948717948717|0.41025641025641024|\n",
      "| 19|            60.96666666666667|    19.0| 47296.48166666666|       187.82000000000002| 0.6666666666666666|0.16666666666666666|\n",
      "| 34|            70.09205128205129|    34.0| 56525.56769230768|       185.86410256410252| 0.4358974358974359|0.38461538461538464|\n",
      "| 61|                        66.08|    61.0|          58966.22|                   184.23|                1.0|                1.0|\n",
      "| 35|            67.40128205128205|    35.0|58917.440512820496|       184.09512820512822|0.46153846153846156|0.41025641025641024|\n",
      "| 23|            68.33315789473684|    23.0|          49851.94|       184.03684210526316| 0.5263157894736842|0.42105263157894735|\n",
      "| 36|                      66.8156|    36.0|58118.526600000005|       181.02600000000007|               0.42|                0.5|\n",
      "| 37|            67.15249999999999|    37.0| 58778.63777777777|       179.29361111111115| 0.4722222222222222| 0.4166666666666667|\n",
      "+---+-----------------------------+--------+------------------+-------------------------+-------------------+-------------------+\n",
      "only showing top 20 rows\n",
      "\n"
     ]
    }
   ],
   "source": [
    "# Which age group has the highest daily internet usage?\n",
    "df.groupBy('age').avg().orderBy('avg(daily_internet_usage)', ascending=False).show()"
   ]
  },
  {
   "cell_type": "code",
   "execution_count": 16,
   "metadata": {},
   "outputs": [],
   "source": [
    "#  Could you create a model for predicting ad click? Create a training data and test data. Present what is your prediction error.\n",
    "from pyspark.ml.feature import VectorAssembler\n",
    "from pyspark.ml.classification import LogisticRegression\n",
    "from pyspark.ml.evaluation import BinaryClassificationEvaluator\n",
    "\n",
    "# create a vector assembler\n",
    "assembler = VectorAssembler(inputCols=['daily_time_spent_on_site', 'age', 'area_income', 'daily_internet_usage'], outputCol='features')\n"
   ]
  },
  {
   "cell_type": "code",
   "execution_count": 17,
   "metadata": {},
   "outputs": [
    {
     "data": {
      "text/plain": [
       "0.9920519999999975"
      ]
     },
     "execution_count": 17,
     "metadata": {},
     "output_type": "execute_result"
    }
   ],
   "source": [
    "# transform the dataframe\n",
    "output = assembler.transform(df)\n",
    "\n",
    "# create a logistic regression model\n",
    "lr = LogisticRegression(labelCol='clicked_on_ad')\n",
    "\n",
    "# fit the model\n",
    "lrModel = lr.fit(output)\n",
    "\n",
    "# create a summary\n",
    "trainingSummary = lrModel.summary\n",
    "\n",
    "# show the area under the curve\n",
    "trainingSummary.areaUnderROC"
   ]
  },
  {
   "cell_type": "code",
   "execution_count": 18,
   "metadata": {},
   "outputs": [
    {
     "name": "stdout",
     "output_type": "stream",
     "text": [
      "+---+-----+\n",
      "|FPR|  TPR|\n",
      "+---+-----+\n",
      "|0.0|  0.0|\n",
      "|0.0|0.002|\n",
      "|0.0|0.004|\n",
      "|0.0|0.006|\n",
      "|0.0|0.008|\n",
      "|0.0| 0.01|\n",
      "|0.0|0.012|\n",
      "|0.0|0.014|\n",
      "|0.0|0.016|\n",
      "|0.0|0.018|\n",
      "|0.0| 0.02|\n",
      "|0.0|0.022|\n",
      "|0.0|0.024|\n",
      "|0.0|0.026|\n",
      "|0.0|0.028|\n",
      "|0.0| 0.03|\n",
      "|0.0|0.032|\n",
      "|0.0|0.034|\n",
      "|0.0|0.036|\n",
      "|0.0|0.038|\n",
      "+---+-----+\n",
      "only showing top 20 rows\n",
      "\n"
     ]
    }
   ],
   "source": [
    "trainingSummary.roc.show()"
   ]
  },
  {
   "cell_type": "code",
   "execution_count": 21,
   "metadata": {},
   "outputs": [
    {
     "name": "stdout",
     "output_type": "stream",
     "text": [
      "+------------------------+---+-----------+--------------------+--------------------+-----------------+----+--------------------+-------------------+-------------+--------------------+--------------------+--------------------+----------+\n",
      "|daily_time_spent_on_site|age|area_income|daily_internet_usage|       ad_topic_line|             city|male|             country|          timestamp|clicked_on_ad|            features|       rawPrediction|         probability|prediction|\n",
      "+------------------------+---+-----------+--------------------+--------------------+-----------------+----+--------------------+-------------------+-------------+--------------------+--------------------+--------------------+----------+\n",
      "|                   68.95| 35|    61833.9|              256.09|Cloned 5thgenerat...|      Wrightburgh|   0|             Tunisia|2016-03-27 00:53:11|            0|[68.95,35.0,61833...|[4.86158114283578...|[0.99232118157969...|       0.0|\n",
      "|                   80.23| 31|   68441.85|              193.77|Monitored nationa...|        West Jodi|   1|               Nauru|2016-04-04 01:39:02|            0|[80.23,31.0,68441...|[4.62185145630103...|[0.99026120594421...|       0.0|\n",
      "|                   69.47| 26|   59785.94|               236.5|Organic bottom-li...|         Davidton|   0|          San Marino|2016-03-13 20:35:42|            0|[69.47,26.0,59785...|[4.97034161060631...|[0.99310706572998...|       0.0|\n",
      "|                   74.15| 29|   54806.18|              245.89|Triple-buffered r...|   West Terrifurt|   1|               Italy|2016-01-10 02:31:19|            0|[74.15,29.0,54806...|[5.28172466001785...|[0.99494205718938...|       0.0|\n",
      "|                   68.37| 35|   73889.99|              225.58|Robust logistical...|     South Manuel|   0|             Iceland|2016-06-03 03:36:18|            0|[68.37,35.0,73889...|[4.43259273450420...|[0.98825592378124...|       0.0|\n",
      "|                   59.99| 23|   59761.56|              226.74|Sharable client-d...|        Jamieberg|   1|              Norway|2016-05-19 14:30:17|            0|[59.99,23.0,59761...|[3.03652134222511...|[0.95419703427794...|       0.0|\n",
      "|                   88.91| 33|   53852.85|              208.36|Enhanced dedicate...|      Brandonstad|   0|             Myanmar|2016-01-28 20:59:32|            0|[88.91,33.0,53852...|[4.90319460386096...|[0.99263186031858...|       0.0|\n",
      "|                    66.0| 48|   24593.33|              131.76|Reactive local ch...| Port Jefferybury|   1|           Australia|2016-03-07 01:40:15|            1|[66.0,48.0,24593....|[-10.915006086859...|[1.81829853866297...|       1.0|\n",
      "|                   74.53| 30|    68862.0|              221.51|Configurable cohe...|       West Colin|   1|             Grenada|2016-04-18 09:33:42|            0|[74.53,30.0,68862...|[5.52860376452422...|[0.99604418024710...|       0.0|\n",
      "|                   69.88| 20|   55642.32|              183.82|Mandatory homogen...|       Ramirezton|   1|               Ghana|2016-07-11 01:42:51|            0|[69.88,20.0,55642...|[2.14660900741938...|[0.89535147602403...|       0.0|\n",
      "|                   47.64| 49|   45632.51|              122.02|Centralized neutr...|  West Brandonton|   0|               Qatar|2016-03-16 20:19:01|            1|[47.64,49.0,45632...|[-12.383702977343...|[4.18624183365494...|       1.0|\n",
      "|                   83.07| 37|   62491.01|              230.87|Team-oriented gri...|East Theresashire|   1|             Burundi|2016-05-08 08:10:10|            0|[83.07,37.0,62491...|[5.70686955476902...|[0.99668794721320...|       0.0|\n",
      "|                   69.57| 48|   51636.92|              113.12|Centralized conte...|   West Katiefurt|   1|               Egypt|2016-06-03 01:14:41|            1|[69.57,48.0,51636...|[-7.7596326259833...|[4.26431357254841...|       1.0|\n",
      "|                   79.52| 24|   51739.63|              214.23|Synergistic fresh...|       North Tara|   0|Bosnia and Herzeg...|2016-04-20 21:49:22|            0|[79.52,24.0,51739...|[4.72831957903843...|[0.99123616810863...|       0.0|\n",
      "|                   42.95| 33|    30976.0|              143.56|Grass-roots coher...|     West William|   0|            Barbados|2016-03-24 09:31:49|            1|[42.95,33.0,30976...|[-11.156822056820...|[1.42773479759517...|       1.0|\n",
      "|                   63.45| 23|   52182.23|              140.64|Persistent demand...|   New Travistown|   1|               Spain|2016-03-09 03:41:30|            1|[63.45,23.0,52182...|[-2.8284955279743...|[0.05580361496087...|       1.0|\n",
      "|                   55.39| 37|   23936.86|              129.41|Customizable mult...|   West Dylanberg|   0|Palestinian Terri...|2016-01-30 19:20:41|            1|[55.39,37.0,23936...|[-11.310322766771...|[1.22457084550326...|       1.0|\n",
      "|                   82.03| 41|   71511.08|              187.53|Intuitive dynamic...|      Pruittmouth|   0|         Afghanistan|2016-05-02 07:00:58|            0|[82.03,41.0,71511...|[3.27484881401901...|[0.96355582590487...|       0.0|\n",
      "|                    54.7| 36|   31087.54|              118.39|Grass-roots solut...|      Jessicastad|   1|British Indian Oc...|2016-02-13 07:53:55|            1|[54.7,36.0,31087....|[-11.007999050628...|[1.65683614306093...|       1.0|\n",
      "|                   74.58| 40|   23821.72|              135.51|Advanced 24/7 pro...|       Millertown|   1|  Russian Federation|2016-02-27 04:43:07|            1|[74.58,40.0,23821...|[-7.7656770360142...|[4.23862694644148...|       1.0|\n",
      "+------------------------+---+-----------+--------------------+--------------------+-----------------+----+--------------------+-------------------+-------------+--------------------+--------------------+--------------------+----------+\n",
      "only showing top 20 rows\n",
      "\n"
     ]
    }
   ],
   "source": [
    "# create a binary classification evaluator\n",
    "evaluator = BinaryClassificationEvaluator(rawPredictionCol='rawPrediction', labelCol='clicked_on_ad')\n",
    "\n",
    "# create a dataframe with the predictions\n",
    "predictions = lrModel.transform(output)\n",
    "\n",
    "# show the predictions\n",
    "predictions.show()"
   ]
  },
  {
   "cell_type": "code",
   "execution_count": 22,
   "metadata": {},
   "outputs": [
    {
     "data": {
      "text/plain": [
       "0.9920519999999975"
      ]
     },
     "execution_count": 22,
     "metadata": {},
     "output_type": "execute_result"
    }
   ],
   "source": [
    "# show model evaluation\n",
    "evaluator.evaluate(predictions)"
   ]
  },
  {
   "cell_type": "code",
   "execution_count": 23,
   "metadata": {},
   "outputs": [
    {
     "name": "stdout",
     "output_type": "stream",
     "text": [
      "Test Area Under ROC 0.9920519999999975\n"
     ]
    }
   ],
   "source": [
    "# print model evaluation\n",
    "print('Test Area Under ROC', evaluator.evaluate(predictions))"
   ]
  },
  {
   "cell_type": "code",
   "execution_count": 26,
   "metadata": {},
   "outputs": [
    {
     "name": "stdout",
     "output_type": "stream",
     "text": [
      "Test Area Under ROC 0.9920519999999975\n"
     ]
    }
   ],
   "source": [
    "# silhouette with squared euclidean distance\n",
    "print('Test Area Under ROC', evaluator.evaluate(predictions))"
   ]
  },
  {
   "cell_type": "code",
   "execution_count": 27,
   "metadata": {},
   "outputs": [
    {
     "data": {
      "image/png": "[encoded data removed]",
      "text/plain": [
       "<Figure size 432x288 with 1 Axes>"
      ]
     },
     "metadata": {
      "needs_background": "light"
     },
     "output_type": "display_data"
    }
   ],
   "source": [
    "# graph the roc curve\n",
    "import matplotlib.pyplot as plt\n",
    "plt.plot(trainingSummary.roc.select('FPR').collect(), trainingSummary.roc.select('TPR').collect())\n",
    "plt.ylabel('False Positive Rate')\n",
    "plt.xlabel('True Positive Rate')\n",
    "plt.title('ROC Curve')\n",
    "plt.show()"
   ]
  },
  {
   "cell_type": "code",
   "execution_count": 28,
   "metadata": {},
   "outputs": [
    {
     "name": "stderr",
     "output_type": "stream",
     "text": [
      "[NbConvertApp] Converting notebook test_spark.ipynb to html\n",
      "[NbConvertApp] Writing 635433 bytes to test_spark.html\n"
     ]
    }
   ],
   "source": [
    "# save as html with nbconvert\n",
    "!jupyter nbconvert --to html test_spark.ipynb"
   ]
  }
 ],
 "metadata": {
  "kernelspec": {
   "display_name": "Python 3.11.0rc1 64-bit",
   "language": "python",
   "name": "python3"
  },
  "language_info": {
   "codemirror_mode": {
    "name": "ipython",
    "version": 3
   },
   "file_extension": ".py",
   "mimetype": "text/x-python",
   "name": "python",
   "nbconvert_exporter": "python",
   "pygments_lexer": "ipython3",
   "version": "3.11.0"
  },
  "orig_nbformat": 4,
  "vscode": {
   "interpreter": {
    "hash": "e7370f93d1d0cde622a1f8e1c04877d8463912d04d973331ad4851f04de6915a"
   }
  }
 },
 "nbformat": 4,
 "nbformat_minor": 2
}
