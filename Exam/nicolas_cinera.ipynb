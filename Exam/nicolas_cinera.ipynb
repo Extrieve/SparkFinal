{
 "cells": [
  {
   "cell_type": "code",
   "execution_count": 1,
   "metadata": {},
   "outputs": [],
   "source": [
    "# import spark sql\n",
    "from pyspark.sql import SparkSession"
   ]
  },
  {
   "cell_type": "code",
   "execution_count": 2,
   "metadata": {},
   "outputs": [],
   "source": [
    "## import spark sql functions\n",
    "from pyspark.sql.functions import *"
   ]
  },
  {
   "cell_type": "code",
   "execution_count": 3,
   "metadata": {},
   "outputs": [
    {
     "name": "stdout",
     "output_type": "stream",
     "text": [
      "22/11/09 12:37:37 WARN Utils: Your hostname, extrieve resolves to a loopback address: 127.0.1.1; using 10.224.151.121 instead (on interface wlo1)\n",
      "22/11/09 12:37:37 WARN Utils: Set SPARK_LOCAL_IP if you need to bind to another address\n"
     ]
    },
    {
     "name": "stderr",
     "output_type": "stream",
     "text": [
      "Setting default log level to \"WARN\".\n",
      "To adjust logging level use sc.setLogLevel(newLevel). For SparkR, use setLogLevel(newLevel).\n"
     ]
    },
    {
     "name": "stdout",
     "output_type": "stream",
     "text": [
      "22/11/09 12:37:37 WARN NativeCodeLoader: Unable to load native-hadoop library for your platform... using builtin-java classes where applicable\n",
      "22/11/09 12:37:38 WARN Utils: Service 'SparkUI' could not bind on port 4040. Attempting port 4041.\n"
     ]
    }
   ],
   "source": [
    "# create spark session with 16 threads\n",
    "spark = SparkSession.builder.master('local[16]').getOrCreate()"
   ]
  },
  {
   "cell_type": "code",
   "execution_count": 4,
   "metadata": {},
   "outputs": [],
   "source": [
    "# Load data frame\n",
    "df = spark.read.csv('blood.csv', header=True, inferSchema=True)"
   ]
  },
  {
   "cell_type": "code",
   "execution_count": 5,
   "metadata": {},
   "outputs": [
    {
     "name": "stdout",
     "output_type": "stream",
     "text": [
      "root\n",
      " |-- Recency (months): double (nullable = true)\n",
      " |-- Frequency (times): integer (nullable = true)\n",
      " |-- Monetary (c.c. blood): integer (nullable = true)\n",
      " |-- Time (months): double (nullable = true)\n",
      " |-- whether he/she donated blood in March 2007: integer (nullable = true)\n",
      "\n"
     ]
    }
   ],
   "source": [
    "# print schema\n",
    "df.printSchema()"
   ]
  },
  {
   "cell_type": "code",
   "execution_count": 6,
   "metadata": {},
   "outputs": [
    {
     "name": "stdout",
     "output_type": "stream",
     "text": [
      "+----------------+-----------------+---------------------+-------------+------------------------------------------+\n",
      "|Recency (months)|Frequency (times)|Monetary (c.c. blood)|Time (months)|whether he/she donated blood in March 2007|\n",
      "+----------------+-----------------+---------------------+-------------+------------------------------------------+\n",
      "|             2.0|               50|                12500|         98.0|                                         1|\n",
      "|             0.0|               13|                 3250|         28.0|                                         1|\n",
      "|             1.0|               16|                 4000|         35.0|                                         1|\n",
      "|             2.0|               20|                 5000|         45.0|                                         1|\n",
      "|             1.0|               24|                 6000|         77.0|                                         0|\n",
      "+----------------+-----------------+---------------------+-------------+------------------------------------------+\n",
      "only showing top 5 rows\n",
      "\n"
     ]
    }
   ],
   "source": [
    "# head\n",
    "df.show(5)"
   ]
  },
  {
   "cell_type": "code",
   "execution_count": 7,
   "metadata": {},
   "outputs": [
    {
     "data": {
      "text/plain": [
       "['Recency (months)',\n",
       " 'Frequency (times)',\n",
       " 'Monetary (c.c. blood)',\n",
       " 'Time (months)',\n",
       " 'whether he/she donated blood in March 2007']"
      ]
     },
     "execution_count": 7,
     "metadata": {},
     "output_type": "execute_result"
    }
   ],
   "source": [
    "# column names\n",
    "df.columns"
   ]
  },
  {
   "cell_type": "markdown",
   "metadata": {},
   "source": [
    "## Making columns lowercase and splitting based on the first space for convenience"
   ]
  },
  {
   "cell_type": "code",
   "execution_count": 8,
   "metadata": {},
   "outputs": [
    {
     "data": {
      "text/plain": [
       "['recency', 'frequency', 'monetary', 'time', 'whether']"
      ]
     },
     "execution_count": 8,
     "metadata": {},
     "output_type": "execute_result"
    }
   ],
   "source": [
    "# change column names to lower case and split by space, only keep first word\n",
    "df = df.toDF(*[c.split(' ')[0].lower() for c in df.columns])\n",
    "\n",
    "df.columns"
   ]
  },
  {
   "cell_type": "markdown",
   "metadata": {},
   "source": [
    "# Answering question 1-6 simple spark.sql queries"
   ]
  },
  {
   "cell_type": "code",
   "execution_count": 9,
   "metadata": {},
   "outputs": [
    {
     "name": "stdout",
     "output_type": "stream",
     "text": [
      "+-----------------+\n",
      "|     avg(recency)|\n",
      "+-----------------+\n",
      "|9.506684491978609|\n",
      "+-----------------+\n",
      "\n"
     ]
    }
   ],
   "source": [
    "# average of the recency column\n",
    "df.select(avg('recency')).show()"
   ]
  },
  {
   "cell_type": "code",
   "execution_count": 10,
   "metadata": {},
   "outputs": [
    {
     "name": "stdout",
     "output_type": "stream",
     "text": [
      "+--------------+\n",
      "|max(frequency)|\n",
      "+--------------+\n",
      "|            50|\n",
      "+--------------+\n",
      "\n"
     ]
    }
   ],
   "source": [
    "# Maximum of the frequency column\n",
    "df.select(max('frequency')).show()"
   ]
  },
  {
   "cell_type": "code",
   "execution_count": 12,
   "metadata": {},
   "outputs": [
    {
     "name": "stdout",
     "output_type": "stream",
     "text": [
      "+---------+-----+\n",
      "|frequency|count|\n",
      "+---------+-----+\n",
      "|        1|  158|\n",
      "|        2|  112|\n",
      "|        3|   87|\n",
      "|        4|   62|\n",
      "|        5|   62|\n",
      "|        6|   52|\n",
      "|        7|   43|\n",
      "|        8|   31|\n",
      "|        9|   24|\n",
      "|       10|   14|\n",
      "|       11|   22|\n",
      "|       12|   14|\n",
      "|       13|    9|\n",
      "|       14|   13|\n",
      "|       15|    6|\n",
      "|       16|   13|\n",
      "|       17|    4|\n",
      "|       18|    1|\n",
      "|       19|    2|\n",
      "|       20|    2|\n",
      "+---------+-----+\n",
      "only showing top 20 rows\n",
      "\n"
     ]
    }
   ],
   "source": [
    "# counts of the frequency column, sorted by frequency\n",
    "df.groupBy('frequency').count().sort('frequency').show()"
   ]
  },
  {
   "cell_type": "code",
   "execution_count": 14,
   "metadata": {},
   "outputs": [
    {
     "data": {
      "text/plain": [
       "178"
      ]
     },
     "execution_count": 14,
     "metadata": {},
     "output_type": "execute_result"
    }
   ],
   "source": [
    "# check the count of 1 in the whether he donated blood in March 2007 column\n",
    "df.filter(df['whether'] == 1).count()"
   ]
  },
  {
   "cell_type": "markdown",
   "metadata": {},
   "source": [
    "# Performing the multivariate regression analysis"
   ]
  },
  {
   "cell_type": "code",
   "execution_count": 15,
   "metadata": {},
   "outputs": [],
   "source": [
    "# Lets import the necessary libraries to perform multiple linear regression\n",
    "from pyspark.ml.regression import LinearRegression\n",
    "from pyspark.ml.feature import VectorAssembler\n",
    "from pyspark.ml.evaluation import RegressionEvaluator"
   ]
  },
  {
   "cell_type": "code",
   "execution_count": 16,
   "metadata": {},
   "outputs": [
    {
     "data": {
      "text/plain": [
       "['recency', 'frequency', 'monetary', 'time', 'whether']"
      ]
     },
     "execution_count": 16,
     "metadata": {},
     "output_type": "execute_result"
    }
   ],
   "source": [
    "df.columns"
   ]
  },
  {
   "cell_type": "markdown",
   "metadata": {},
   "source": [
    "## Vectorizing the regression inputs"
   ]
  },
  {
   "cell_type": "code",
   "execution_count": 17,
   "metadata": {},
   "outputs": [],
   "source": [
    "# Lets build a model with whether as the dependent variable and the rest of the columns as the independent variables\n",
    "# Lets create a vector assembler to combine all the independent variables into a single vector\n",
    "assembler = VectorAssembler(inputCols=['recency', 'frequency', 'monetary', 'time'], outputCol='features')"
   ]
  },
  {
   "cell_type": "code",
   "execution_count": 18,
   "metadata": {},
   "outputs": [
    {
     "name": "stdout",
     "output_type": "stream",
     "text": [
      "+-------+---------+--------+----+-------+--------------------+\n",
      "|recency|frequency|monetary|time|whether|            features|\n",
      "+-------+---------+--------+----+-------+--------------------+\n",
      "|    2.0|       50|   12500|98.0|      1|[2.0,50.0,12500.0...|\n",
      "|    0.0|       13|    3250|28.0|      1|[0.0,13.0,3250.0,...|\n",
      "|    1.0|       16|    4000|35.0|      1|[1.0,16.0,4000.0,...|\n",
      "|    2.0|       20|    5000|45.0|      1|[2.0,20.0,5000.0,...|\n",
      "|    1.0|       24|    6000|77.0|      0|[1.0,24.0,6000.0,...|\n",
      "+-------+---------+--------+----+-------+--------------------+\n",
      "only showing top 5 rows\n",
      "\n"
     ]
    }
   ],
   "source": [
    "# Lets transform the data frame using the vector assembler\n",
    "output = assembler.transform(df)\n",
    "\n",
    "# Lets print the first 5 rows of the transformed data frame\n",
    "output.show(5)"
   ]
  },
  {
   "cell_type": "code",
   "execution_count": 19,
   "metadata": {},
   "outputs": [],
   "source": [
    "# Lets create a linear regression model\n",
    "lr = LinearRegression(featuresCol='features', labelCol='whether')"
   ]
  },
  {
   "cell_type": "code",
   "execution_count": 20,
   "metadata": {},
   "outputs": [
    {
     "name": "stdout",
     "output_type": "stream",
     "text": [
      "22/11/09 13:01:24 WARN Instrumentation: [c62da577] regParam is zero, which might cause numerical instability and overfitting.\n"
     ]
    }
   ],
   "source": [
    "# Lets fit the model to the data\n",
    "lr_model = lr.fit(output)"
   ]
  },
  {
   "cell_type": "code",
   "execution_count": 21,
   "metadata": {},
   "outputs": [
    {
     "name": "stdout",
     "output_type": "stream",
     "text": [
      "Coefficients: [-0.009979831777839693,0.009651913546669737,5.30515067239831e-05,-0.0035796917492742957] Intercept: 0.32919399680446343\n"
     ]
    }
   ],
   "source": [
    "# Lets print the coefficients and intercept for the linear regression model\n",
    "print(\"Coefficients: {} Intercept: {}\".format(lr_model.coefficients, lr_model.intercept))"
   ]
  },
  {
   "cell_type": "code",
   "execution_count": 36,
   "metadata": {},
   "outputs": [
    {
     "name": "stdout",
     "output_type": "stream",
     "text": [
      "('recency', -0.009979831777839693)\n",
      "('frequency', 0.009651913546669737)\n",
      "('monetary', 5.30515067239831e-05)\n",
      "('time', -0.0035796917492742957)\n"
     ]
    }
   ],
   "source": [
    "coeffiecients = zip(df.columns[:-1], lr_model.coefficients)\n",
    "for coeff in coeffiecients:\n",
    "    print(coeff)"
   ]
  },
  {
   "cell_type": "code",
   "execution_count": 31,
   "metadata": {},
   "outputs": [
    {
     "name": "stdout",
     "output_type": "stream",
     "text": [
      "r2 0.12905639374756062\n"
     ]
    }
   ],
   "source": [
    "# for every metric in the summary, print r2, rmse, and mse, and label them\n",
    "for metric in ['r2']:\n",
    "    print(metric, lr_model.summary.__getattribute__(metric))"
   ]
  },
  {
   "cell_type": "code",
   "execution_count": 32,
   "metadata": {},
   "outputs": [
    {
     "name": "stdout",
     "output_type": "stream",
     "text": [
      "+-------+---------+--------+----+-------+--------------------+------------------+\n",
      "|recency|frequency|monetary|time|whether|            features|        prediction|\n",
      "+-------+---------+--------+----+-------+--------------------+------------------+\n",
      "|    2.0|       50|   12500|98.0|    1.0|[2.0,50.0,12500.0...|1.1041640532031787|\n",
      "|    0.0|       13|    3250|28.0|    1.0|[0.0,13.0,3250.0,...|0.5268549007844348|\n",
      "|    1.0|       16|    4000|35.0|    1.0|[1.0,16.0,4000.0,...|0.5605615974446716|\n",
      "|    2.0|       20|    5000|45.0|    1.0|[2.0,20.0,5000.0,...|0.6064440090847509|\n",
      "|    1.0|       24|    6000|77.0|    0.0|[1.0,24.0,6000.0,...|0.5935328657964752|\n",
      "+-------+---------+--------+----+-------+--------------------+------------------+\n",
      "only showing top 5 rows\n",
      "\n"
     ]
    }
   ],
   "source": [
    "lr_model.summary.predictions.show(5)"
   ]
  },
  {
   "cell_type": "code",
   "execution_count": 37,
   "metadata": {},
   "outputs": [
    {
     "data": {
      "text/plain": [
       "[5.017003119611729e-07, 1.0, 1.0, 1.907124614652922e-05, 0.0]"
      ]
     },
     "execution_count": 37,
     "metadata": {},
     "output_type": "execute_result"
    }
   ],
   "source": [
    "# Lets analyze the p-values of the coefficients\n",
    "lr_model.summary.pValues"
   ]
  },
  {
   "cell_type": "code",
   "execution_count": 33,
   "metadata": {},
   "outputs": [],
   "source": [
    "# Graph the residuals\n",
    "import matplotlib.pyplot as plt\n",
    "import seaborn as sns\n",
    "sns.set_style('darkgrid')\n",
    "%matplotlib inline"
   ]
  },
  {
   "cell_type": "code",
   "execution_count": 34,
   "metadata": {},
   "outputs": [
    {
     "data": {
      "text/plain": [
       "Text(0.5, 1.0, 'Residual Plot')"
      ]
     },
     "execution_count": 34,
     "metadata": {},
     "output_type": "execute_result"
    },
    {
     "data": {
      "image/png": "[encoded data removed]",
      "text/plain": [
       "<Figure size 640x480 with 1 Axes>"
      ]
     },
     "metadata": {},
     "output_type": "display_data"
    }
   ],
   "source": [
    "# Lets create a pandas data frame from the predictions\n",
    "preds = lr_model.summary.predictions.toPandas()\n",
    "\n",
    "# Lets plot the residuals\n",
    "plt.scatter(preds['whether'], preds['prediction'] - preds['whether'])\n",
    "plt.hlines(y=0, xmin=preds['whether'].min(), xmax=preds['whether'].max())\n",
    "plt.title('Residual Plot')"
   ]
  },
  {
   "cell_type": "code",
   "execution_count": 40,
   "metadata": {},
   "outputs": [
    {
     "name": "stdout",
     "output_type": "stream",
     "text": [
      "[NbConvertApp] Converting notebook nicolas_cinera.ipynb to html\n",
      "[NbConvertApp] Writing 638424 bytes to nicolas_cinera.html\n"
     ]
    }
   ],
   "source": [
    "# export as html with nbconvert\n",
    "!jupyter nbconvert --to html nicolas_cinera.ipynb"
   ]
  },
  {
   "cell_type": "markdown",
   "metadata": {},
   "source": [
    "### Thank you for the great course!"
   ]
  }
 ],
 "metadata": {
  "kernelspec": {
   "display_name": "Python 3.10.6 64-bit",
   "language": "python",
   "name": "python3"
  },
  "language_info": {
   "codemirror_mode": {
    "name": "ipython",
    "version": 3
   },
   "file_extension": ".py",
   "mimetype": "text/x-python",
   "name": "python",
   "nbconvert_exporter": "python",
   "pygments_lexer": "ipython3",
   "version": "3.10.6"
  },
  "orig_nbformat": 4,
  "vscode": {
   "interpreter": {
    "hash": "916dbcbb3f70747c44a77c7bcd40155683ae19c65e1c03b4aa3499c5328201f1"
   }
  }
 },
 "nbformat": 4,
 "nbformat_minor": 2
}
