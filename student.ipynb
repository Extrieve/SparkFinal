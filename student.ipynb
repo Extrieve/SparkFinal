{
 "cells": [
  {
   "cell_type": "code",
   "execution_count": 1,
   "metadata": {},
   "outputs": [],
   "source": [
    "# import spark sql\n",
    "from pyspark.sql import SparkSession\n",
    "# create spark session with 16 threads\n",
    "spark = SparkSession.builder.master('local[16]').getOrCreate()"
   ]
  },
  {
   "cell_type": "code",
   "execution_count": 2,
   "metadata": {},
   "outputs": [],
   "source": [
    "# import spark sql functions\n",
    "from pyspark.sql.functions import *"
   ]
  },
  {
   "cell_type": "code",
   "execution_count": 3,
   "metadata": {},
   "outputs": [
    {
     "name": "stdout",
     "output_type": "stream",
     "text": [
      "+------+-----------+------------+------------+-------+---------+-----+--------+--------+-----------+----------------+-----------------+----------+---------------------+------------------------+------------------+-----+\n",
      "|gender|NationalITy|PlaceofBirth|     StageID|GradeID|SectionID|Topic|Semester|Relation|raisedhands|VisITedResources|AnnouncementsView|Discussion|ParentAnsweringSurvey|ParentschoolSatisfaction|StudentAbsenceDays|Class|\n",
      "+------+-----------+------------+------------+-------+---------+-----+--------+--------+-----------+----------------+-----------------+----------+---------------------+------------------------+------------------+-----+\n",
      "|     M|         KW|      KuwaIT|  lowerlevel|   G-04|        A|   IT|       F|  Father|         15|              16|                2|        20|                  Yes|                    Good|           Under-7|    M|\n",
      "|     M|         KW|      KuwaIT|  lowerlevel|   G-04|        A|   IT|       F|  Father|         20|              20|                3|        25|                  Yes|                    Good|           Under-7|    M|\n",
      "|     M|         KW|      KuwaIT|  lowerlevel|   G-04|        A|   IT|       F|  Father|         10|               7|                0|        30|                   No|                     Bad|           Above-7|    L|\n",
      "|     M|         KW|      KuwaIT|  lowerlevel|   G-04|        A|   IT|       F|  Father|         30|              25|                5|        35|                   No|                     Bad|           Above-7|    L|\n",
      "|     M|         KW|      KuwaIT|  lowerlevel|   G-04|        A|   IT|       F|  Father|         40|              50|               12|        50|                   No|                     Bad|           Above-7|    M|\n",
      "|     F|         KW|      KuwaIT|  lowerlevel|   G-04|        A|   IT|       F|  Father|         42|              30|               13|        70|                  Yes|                     Bad|           Above-7|    M|\n",
      "|     M|         KW|      KuwaIT|MiddleSchool|   G-07|        A| Math|       F|  Father|         35|              12|                0|        17|                   No|                     Bad|           Above-7|    L|\n",
      "|     M|         KW|      KuwaIT|MiddleSchool|   G-07|        A| Math|       F|  Father|         50|              10|               15|        22|                  Yes|                    Good|           Under-7|    M|\n",
      "|     F|         KW|      KuwaIT|MiddleSchool|   G-07|        A| Math|       F|  Father|         12|              21|               16|        50|                  Yes|                    Good|           Under-7|    M|\n",
      "|     F|         KW|      KuwaIT|MiddleSchool|   G-07|        B|   IT|       F|  Father|         70|              80|               25|        70|                  Yes|                    Good|           Under-7|    M|\n",
      "|     M|         KW|      KuwaIT|MiddleSchool|   G-07|        A| Math|       F|  Father|         50|              88|               30|        80|                  Yes|                    Good|           Under-7|    H|\n",
      "|     M|         KW|      KuwaIT|MiddleSchool|   G-07|        B| Math|       F|  Father|         19|               6|               19|        12|                  Yes|                    Good|           Under-7|    M|\n",
      "|     M|         KW|      KuwaIT|  lowerlevel|   G-04|        A|   IT|       F|  Father|          5|               1|                0|        11|                   No|                     Bad|           Above-7|    L|\n",
      "|     M|    lebanon|     lebanon|MiddleSchool|   G-08|        A| Math|       F|  Father|         20|              14|               12|        19|                   No|                     Bad|           Above-7|    L|\n",
      "|     F|         KW|      KuwaIT|MiddleSchool|   G-08|        A| Math|       F|     Mum|         62|              70|               44|        60|                   No|                     Bad|           Above-7|    H|\n",
      "|     F|         KW|      KuwaIT|MiddleSchool|   G-06|        A|   IT|       F|  Father|         30|              40|               22|        66|                  Yes|                    Good|           Under-7|    M|\n",
      "|     M|         KW|      KuwaIT|MiddleSchool|   G-07|        B|   IT|       F|  Father|         36|              30|               20|        80|                   No|                     Bad|           Above-7|    M|\n",
      "|     M|         KW|      KuwaIT|MiddleSchool|   G-07|        A| Math|       F|  Father|         55|              13|               35|        90|                   No|                     Bad|           Above-7|    M|\n",
      "|     F|         KW|      KuwaIT|MiddleSchool|   G-07|        A|   IT|       F|     Mum|         69|              15|               36|        96|                  Yes|                    Good|           Under-7|    M|\n",
      "|     M|         KW|      KuwaIT|MiddleSchool|   G-07|        B|   IT|       F|     Mum|         70|              50|               40|        99|                  Yes|                    Good|           Under-7|    H|\n",
      "+------+-----------+------------+------------+-------+---------+-----+--------+--------+-----------+----------------+-----------------+----------+---------------------+------------------------+------------------+-----+\n",
      "only showing top 20 rows\n",
      "\n"
     ]
    }
   ],
   "source": [
    "# load student_data.csv\n",
    "student_data = spark.read.csv('student_data.csv', header=True, inferSchema=True)\n",
    "\n",
    "student_data.show()"
   ]
  },
  {
   "cell_type": "code",
   "execution_count": 4,
   "metadata": {},
   "outputs": [
    {
     "name": "stdout",
     "output_type": "stream",
     "text": [
      "root\n",
      " |-- gender: string (nullable = true)\n",
      " |-- NationalITy: string (nullable = true)\n",
      " |-- PlaceofBirth: string (nullable = true)\n",
      " |-- StageID: string (nullable = true)\n",
      " |-- GradeID: string (nullable = true)\n",
      " |-- SectionID: string (nullable = true)\n",
      " |-- Topic: string (nullable = true)\n",
      " |-- Semester: string (nullable = true)\n",
      " |-- Relation: string (nullable = true)\n",
      " |-- raisedhands: integer (nullable = true)\n",
      " |-- VisITedResources: integer (nullable = true)\n",
      " |-- AnnouncementsView: integer (nullable = true)\n",
      " |-- Discussion: integer (nullable = true)\n",
      " |-- ParentAnsweringSurvey: string (nullable = true)\n",
      " |-- ParentschoolSatisfaction: string (nullable = true)\n",
      " |-- StudentAbsenceDays: string (nullable = true)\n",
      " |-- Class: string (nullable = true)\n",
      "\n"
     ]
    }
   ],
   "source": [
    "# student data schema\n",
    "student_data.printSchema()"
   ]
  },
  {
   "cell_type": "code",
   "execution_count": 11,
   "metadata": {},
   "outputs": [
    {
     "name": "stdout",
     "output_type": "stream",
     "text": [
      "+------------+\n",
      "|     StageID|\n",
      "+------------+\n",
      "|  HighSchool|\n",
      "|MiddleSchool|\n",
      "|  lowerlevel|\n",
      "+------------+\n",
      "\n"
     ]
    }
   ],
   "source": [
    "# get all unique values of StageID\n",
    "student_data.select('StageID').distinct().show()"
   ]
  },
  {
   "cell_type": "code",
   "execution_count": 5,
   "metadata": {},
   "outputs": [
    {
     "name": "stdout",
     "output_type": "stream",
     "text": [
      "+---------+-----+\n",
      "|    topic|count|\n",
      "+---------+-----+\n",
      "|  Science|   51|\n",
      "|  Geology|   24|\n",
      "|    Quran|   22|\n",
      "|     Math|   21|\n",
      "|Chemistry|   24|\n",
      "|  English|   45|\n",
      "|  Spanish|   25|\n",
      "|  History|   19|\n",
      "|       IT|   95|\n",
      "|   French|   65|\n",
      "|   Arabic|   59|\n",
      "|  Biology|   30|\n",
      "+---------+-----+\n",
      "\n"
     ]
    }
   ],
   "source": [
    "# lets see topic frequency\n",
    "student_data.groupBy('topic').count().show()"
   ]
  },
  {
   "cell_type": "code",
   "execution_count": 12,
   "metadata": {},
   "outputs": [
    {
     "name": "stdout",
     "output_type": "stream",
     "text": [
      "+-------+-----+\n",
      "|  topic|count|\n",
      "+-------+-----+\n",
      "| French|   64|\n",
      "|     IT|   62|\n",
      "| Arabic|   31|\n",
      "|Science|   27|\n",
      "|History|    7|\n",
      "|English|    6|\n",
      "|   Math|    2|\n",
      "+-------+-----+\n",
      "\n"
     ]
    }
   ],
   "source": [
    "# lets see the topic that has the highest frequence where StageID == 'lowerlevel'\n",
    "student_data.filter(student_data['StageID'] == 'lowerlevel').groupBy('topic').count().orderBy('count', ascending=False).show()"
   ]
  },
  {
   "cell_type": "code",
   "execution_count": 13,
   "metadata": {},
   "outputs": [
    {
     "name": "stdout",
     "output_type": "stream",
     "text": [
      "+---------+-----+\n",
      "|    topic|count|\n",
      "+---------+-----+\n",
      "|  Biology|   30|\n",
      "|   Arabic|   28|\n",
      "|  English|   28|\n",
      "|  Geology|   24|\n",
      "|  Spanish|   24|\n",
      "|Chemistry|   24|\n",
      "|       IT|   23|\n",
      "|  Science|   20|\n",
      "|    Quran|   18|\n",
      "|     Math|   17|\n",
      "|  History|   12|\n",
      "+---------+-----+\n",
      "\n"
     ]
    }
   ],
   "source": [
    "student_data.filter(student_data['StageID'] == 'MiddleSchool').groupBy('topic').count().orderBy('count', ascending=False).show()"
   ]
  },
  {
   "cell_type": "code",
   "execution_count": 14,
   "metadata": {},
   "outputs": [
    {
     "name": "stdout",
     "output_type": "stream",
     "text": [
      "+-------+-----+\n",
      "|  topic|count|\n",
      "+-------+-----+\n",
      "|English|   11|\n",
      "|     IT|   10|\n",
      "|Science|    4|\n",
      "|  Quran|    4|\n",
      "|   Math|    2|\n",
      "|Spanish|    1|\n",
      "| French|    1|\n",
      "+-------+-----+\n",
      "\n"
     ]
    }
   ],
   "source": [
    "student_data.filter(student_data['StageID'] == 'HighSchool').groupBy('topic').count().orderBy('count', ascending=False).show()"
   ]
  },
  {
   "cell_type": "code",
   "execution_count": 15,
   "metadata": {},
   "outputs": [
    {
     "name": "stdout",
     "output_type": "stream",
     "text": [
      "+-------+\n",
      "|GradeID|\n",
      "+-------+\n",
      "|   G-06|\n",
      "|   G-08|\n",
      "|   G-04|\n",
      "|   G-12|\n",
      "|   G-09|\n",
      "|   G-10|\n",
      "|   G-02|\n",
      "|   G-11|\n",
      "|   G-05|\n",
      "|   G-07|\n",
      "+-------+\n",
      "\n"
     ]
    }
   ],
   "source": [
    "# Show values from GradeID column\n",
    "student_data.select('GradeID').distinct().show()"
   ]
  },
  {
   "cell_type": "code",
   "execution_count": 16,
   "metadata": {},
   "outputs": [],
   "source": [
    "# Make a new Column called Grade, take string values from GradeID column and convert them to integer, first parse all non-integer values out\n",
    "student_data = student_data.withColumn('Grade', regexp_replace('GradeID', '[^0-9]', '').cast('int'))"
   ]
  },
  {
   "cell_type": "code",
   "execution_count": 17,
   "metadata": {},
   "outputs": [
    {
     "name": "stdout",
     "output_type": "stream",
     "text": [
      "+-----+\n",
      "|Grade|\n",
      "+-----+\n",
      "|   12|\n",
      "|    6|\n",
      "|    5|\n",
      "|    9|\n",
      "|    4|\n",
      "|    8|\n",
      "|    7|\n",
      "|   10|\n",
      "|   11|\n",
      "|    2|\n",
      "+-----+\n",
      "\n"
     ]
    }
   ],
   "source": [
    "# Show values from Grade column\n",
    "student_data.select('Grade').distinct().show()"
   ]
  },
  {
   "cell_type": "code",
   "execution_count": 21,
   "metadata": {},
   "outputs": [
    {
     "name": "stdout",
     "output_type": "stream",
     "text": [
      "+-----------+------------+------+------------------+\n",
      "|Nationality|     StageID|Gender|             Grade|\n",
      "+-----------+------------+------+------------------+\n",
      "|        USA|  HighSchool|     F|              12.0|\n",
      "|         KW|  HighSchool|     F|11.181818181818182|\n",
      "|      Tunis|  HighSchool|     F|              11.0|\n",
      "|      Tunis|  HighSchool|     M|              11.0|\n",
      "|SaudiArabia|  HighSchool|     M|              11.0|\n",
      "|SaudiArabia|  HighSchool|     F|              11.0|\n",
      "|         KW|  HighSchool|     M|              10.6|\n",
      "|   venzuela|  HighSchool|     M|              10.0|\n",
      "|       Iran|  HighSchool|     M|               9.0|\n",
      "|        USA|MiddleSchool|     M|               8.0|\n",
      "|    lebanon|MiddleSchool|     M|               8.0|\n",
      "|    Morocco|MiddleSchool|     M|               8.0|\n",
      "|       Iran|MiddleSchool|     M|               8.0|\n",
      "|      Syria|MiddleSchool|     M|               7.5|\n",
      "|SaudiArabia|MiddleSchool|     F|               7.5|\n",
      "|         KW|MiddleSchool|     M|            7.4375|\n",
      "|     Jordan|MiddleSchool|     F| 7.431818181818182|\n",
      "|       Iraq|MiddleSchool|     M|               7.4|\n",
      "|      Tunis|MiddleSchool|     M|             7.375|\n",
      "|     Jordan|MiddleSchool|     M| 7.346153846153846|\n",
      "+-----------+------------+------+------------------+\n",
      "only showing top 20 rows\n",
      "\n"
     ]
    }
   ],
   "source": [
    "# Group by Nationality, StageID, Gender, compute the average of Grade column\n",
    "student_data.groupBy('Nationality', 'StageID', 'Gender').agg(avg('Grade').alias('Grade')).orderBy('Grade', ascending=False).show()"
   ]
  },
  {
   "cell_type": "code",
   "execution_count": 22,
   "metadata": {},
   "outputs": [
    {
     "name": "stdout",
     "output_type": "stream",
     "text": [
      "+-----------------------------------+\n",
      "|corr(VisitedResources, raisedhands)|\n",
      "+-----------------------------------+\n",
      "|                 0.6915717054692968|\n",
      "+-----------------------------------+\n",
      "\n"
     ]
    }
   ],
   "source": [
    "# Check correlation between VisitedResources and raisedhands\n",
    "student_data.select(corr('VisitedResources', 'raisedhands')).show()"
   ]
  },
  {
   "cell_type": "code",
   "execution_count": 23,
   "metadata": {},
   "outputs": [],
   "source": [
    "# Create a K-Mean (K=4) cluster with Raisedhands, VisitedResources, AnnouncementView and Discussion.\n",
    "from pyspark.ml.clustering import KMeans\n",
    "from pyspark.ml.feature import VectorAssembler\n",
    "# Evaluators\n",
    "from pyspark.ml.evaluation import ClusteringEvaluator\n",
    "# Pipeline\n",
    "from pyspark.ml import Pipeline\n"
   ]
  },
  {
   "cell_type": "code",
   "execution_count": 26,
   "metadata": {},
   "outputs": [
    {
     "name": "stdout",
     "output_type": "stream",
     "text": [
      "root\n",
      " |-- gender: string (nullable = true)\n",
      " |-- NationalITy: string (nullable = true)\n",
      " |-- PlaceofBirth: string (nullable = true)\n",
      " |-- StageID: string (nullable = true)\n",
      " |-- GradeID: string (nullable = true)\n",
      " |-- SectionID: string (nullable = true)\n",
      " |-- Topic: string (nullable = true)\n",
      " |-- Semester: string (nullable = true)\n",
      " |-- Relation: string (nullable = true)\n",
      " |-- raisedhands: integer (nullable = true)\n",
      " |-- VisITedResources: integer (nullable = true)\n",
      " |-- AnnouncementsView: integer (nullable = true)\n",
      " |-- Discussion: integer (nullable = true)\n",
      " |-- ParentAnsweringSurvey: string (nullable = true)\n",
      " |-- ParentschoolSatisfaction: string (nullable = true)\n",
      " |-- StudentAbsenceDays: string (nullable = true)\n",
      " |-- Class: string (nullable = true)\n",
      " |-- Grade: integer (nullable = true)\n",
      "\n"
     ]
    }
   ],
   "source": [
    "# schema\n",
    "student_data.printSchema()"
   ]
  },
  {
   "cell_type": "code",
   "execution_count": 27,
   "metadata": {},
   "outputs": [],
   "source": [
    "# Create a VectorAssembler object\n",
    "assembler = VectorAssembler(inputCols=['raisedhands', 'VisITedResources', 'AnnouncementsView', 'Discussion'], outputCol='features')"
   ]
  },
  {
   "cell_type": "code",
   "execution_count": 28,
   "metadata": {},
   "outputs": [],
   "source": [
    "# Transform the data\n",
    "final_data = assembler.transform(student_data)"
   ]
  },
  {
   "cell_type": "code",
   "execution_count": 29,
   "metadata": {},
   "outputs": [],
   "source": [
    "# Create a KMeans Model\n",
    "kmeans = KMeans(featuresCol='features', k=4)"
   ]
  },
  {
   "cell_type": "code",
   "execution_count": 30,
   "metadata": {},
   "outputs": [],
   "source": [
    "# Fit the model\n",
    "model = kmeans.fit(final_data)"
   ]
  },
  {
   "cell_type": "code",
   "execution_count": 31,
   "metadata": {},
   "outputs": [],
   "source": [
    "# Evaluate clustering by computing Silhouette score\n",
    "evaluator = ClusteringEvaluator()\n",
    "\n",
    "# Compute the silhouette score\n",
    "silhouette = evaluator.evaluate(model.transform(final_data))"
   ]
  },
  {
   "cell_type": "code",
   "execution_count": 32,
   "metadata": {},
   "outputs": [
    {
     "name": "stdout",
     "output_type": "stream",
     "text": [
      "Silhouette with squared euclidean distance = 0.5025542205209951\n"
     ]
    }
   ],
   "source": [
    "# Print the silhouette score\n",
    "print(\"Silhouette with squared euclidean distance = \" + str(silhouette))"
   ]
  },
  {
   "cell_type": "code",
   "execution_count": 35,
   "metadata": {},
   "outputs": [
    {
     "name": "stdout",
     "output_type": "stream",
     "text": [
      "Cluster Centers: \n",
      "Cluster 0: [18.18023256 14.88953488 16.84883721 33.95348837]\n",
      "Cluster 1: [27.4939759  73.78313253 32.07228916 37.61445783]\n",
      "Cluster 2: [77.525      79.95833333 68.2        74.525     ]\n",
      "Cluster 3: [73.71428571 76.40952381 42.44761905 27.34285714]\n"
     ]
    }
   ],
   "source": [
    "# Shows the result along with the cluster centers\n",
    "centers = model.clusterCenters()\n",
    "print(\"Cluster Centers: \")\n",
    "for index, center in enumerate(centers):\n",
    "    print(\"Cluster \" + str(index) + \": \" + str(center))"
   ]
  },
  {
   "cell_type": "code",
   "execution_count": 34,
   "metadata": {},
   "outputs": [
    {
     "name": "stdout",
     "output_type": "stream",
     "text": [
      "+----------+------------------+-----------------+------------------+-----------------+\n",
      "|prediction|       raisedhands| VisITedResources| AnnouncementsView|       Discussion|\n",
      "+----------+------------------+-----------------+------------------+-----------------+\n",
      "|         1| 27.49397590361446|73.78313253012048|  32.0722891566265| 37.6144578313253|\n",
      "|         3| 73.71428571428571| 76.4095238095238| 42.44761904761905|27.34285714285714|\n",
      "|         2|            77.525|79.95833333333333|              68.2|           74.525|\n",
      "|         0|18.180232558139537|14.88953488372093|16.848837209302324|33.95348837209303|\n",
      "+----------+------------------+-----------------+------------------+-----------------+\n",
      "\n"
     ]
    }
   ],
   "source": [
    "# Compute the mean of RaisedHands, VisitedResources, AnnouncementView and RaisedHands of each cluster and print.\n",
    "model.transform(final_data).groupBy('prediction').agg(avg('raisedhands').alias('raisedhands'), avg('VisITedResources').alias('VisITedResources'), avg('AnnouncementsView').alias('AnnouncementsView'), avg('Discussion').alias('Discussion')).show()"
   ]
  },
  {
   "cell_type": "code",
   "execution_count": 37,
   "metadata": {},
   "outputs": [
    {
     "name": "stderr",
     "output_type": "stream",
     "text": [
      "[NbConvertApp] Converting notebook student.ipynb to html\n",
      "[NbConvertApp] Writing 617874 bytes to student.html\n"
     ]
    }
   ],
   "source": [
    "# Export as html with nbconvert\n",
    "!jupyter nbconvert --to html student.ipynb"
   ]
  }
 ],
 "metadata": {
  "kernelspec": {
   "display_name": "Python 3.10.7 64-bit",
   "language": "python",
   "name": "python3"
  },
  "language_info": {
   "codemirror_mode": {
    "name": "ipython",
    "version": 3
   },
   "file_extension": ".py",
   "mimetype": "text/x-python",
   "name": "python",
   "nbconvert_exporter": "python",
   "pygments_lexer": "ipython3",
   "version": "3.10.7"
  },
  "orig_nbformat": 4,
  "vscode": {
   "interpreter": {
    "hash": "85c576d62e5a69baba7dcae6282c7bf6fba6f8d537c9cbb11ca984aece3c77a0"
   }
  }
 },
 "nbformat": 4,
 "nbformat_minor": 2
}
